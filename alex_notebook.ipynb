{
  "cells": [
    {
      "cell_type": "code",
      "execution_count": null,
      "metadata": {
        "colab": {
          "base_uri": "https://localhost:8080/",
          "height": 844
        },
        "id": "325pRYdXky0Q",
        "outputId": "5e5a764f-2d4b-4a8b-8e33-24ed5e5de684"
      },
      "outputs": [],
      "source": [
        "import os"
      ]
    },
    {
      "cell_type": "code",
      "execution_count": null,
      "metadata": {},
      "outputs": [],
      "source": [
        "import fastai"
      ]
    },
    {
      "cell_type": "code",
      "execution_count": null,
      "metadata": {},
      "outputs": [],
      "source": [
        "from fastai.vision.widgets import *"
      ]
    },
    {
      "cell_type": "code",
      "execution_count": null,
      "metadata": {},
      "outputs": [],
      "source": [
        "from fastai.vision.all import *"
      ]
    },
    {
      "cell_type": "code",
      "execution_count": null,
      "metadata": {},
      "outputs": [],
      "source": [
        "path = Path()\n",
        "path.ls(file_exts='.pkl')\n",
        "\n",
        "learn_inf = load_learner(path/'model_face_recognition_di_and_alex_v_1.pkl')\n",
        "#learn_inf.dls.vocab\n",
        "\n",
        "# learn_inf = load_learner('model_export.pkl')\n",
        "# learn_inf.dls.vocab\n",
        "\n",
        "\n",
        "btn_upload = widgets.FileUpload()\n",
        "#btn_upload\n",
        "\n",
        "#img = PILImage.create(btn_upload.data[-1])\n",
        "\n",
        "out_pl = widgets.Output()\n",
        "out_pl.clear_output()\n",
        "# with out_pl: display(img.to_thumb(128,128))\n",
        "# out_pl\n",
        "\n",
        "# pred,pred_idx,probs = learn_inf.predict(img)\n",
        "\n",
        "lbl_pred = widgets.Label()\n",
        "# lbl_pred.value = f'Prediction: {pred}; Probability: {probs[pred_idx]:.04f}'\n",
        "# lbl_pred\n",
        "\n",
        "btn_run = widgets.Button(description='Classify')\n",
        "#btn_run\n",
        "\n",
        "def on_click_classify(change):\n",
        "    img = PILImage.create(btn_upload.data[-1])\n",
        "    out_pl.clear_output()\n",
        "    with out_pl: display(img.to_thumb(128,128))\n",
        "    pred,pred_idx,probs = learn_inf.predict(img)\n",
        "    lbl_pred.value = f'Prediction: {pred}; Probability: {probs[pred_idx]:.04f}'"
      ]
    },
    {
      "cell_type": "code",
      "execution_count": null,
      "metadata": {},
      "outputs": [],
      "source": [
        "btn_run.on_click(on_click_classify)"
      ]
    },
    {
      "cell_type": "code",
      "execution_count": null,
      "metadata": {},
      "outputs": [],
      "source": [
        "btn_upload = widgets.FileUpload()"
      ]
    },
    {
      "cell_type": "code",
      "execution_count": null,
      "metadata": {},
      "outputs": [],
      "source": [
        "VBox([widgets.Label('Выбери фотку! =P'), \n",
        "      btn_upload, btn_run, out_pl, lbl_pred])"
      ]
    }
  ],
  "metadata": {
    "colab": {
      "collapsed_sections": [],
      "name": "Untitled0.ipynb",
      "provenance": []
    },
    "kernelspec": {
      "display_name": "Python 3",
      "name": "python3"
    },
    "language_info": {
      "name": "python"
    }
  },
  "nbformat": 4,
  "nbformat_minor": 0
}
